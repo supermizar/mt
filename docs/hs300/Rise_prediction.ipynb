{
 "cells": [
  {
   "cell_type": "markdown",
   "metadata": {},
   "source": [
    "# 择时买入--未来n天内指数是否会大幅上升"
   ]
  },
  {
   "cell_type": "code",
   "execution_count": 1,
   "metadata": {
    "collapsed": true
   },
   "outputs": [],
   "source": [
    "# 添加工程根目录到系统路径下\n",
    "import os\n",
    "import sys\n",
    "project_root = os.getcwd()[:os.getcwd().find('/docs')]\n",
    "sys.path.append(project_root)"
   ]
  },
  {
   "cell_type": "markdown",
   "metadata": {},
   "source": [
    "## 1. 实验目的和流程"
   ]
  },
  {
   "cell_type": "markdown",
   "metadata": {},
   "source": [
    "+ **实验目的**：在给定时间内提取数据特征，预测未来一段时间内沪深300指数是否会出现涨幅超过某一阈值\n",
    "+ **实验流程**：\n",
    "\n",
    "> 1. 以(m+n)滑窗的方式计算给定时间内所有样本的特征和标签，其中m是已知交易数据的交易日天数，n是要预测未来跌幅的交易日天数\n",
    "> 2. 选取模型预测，计算正检率和误检率\n",
    "> 3. 重复1，2"
   ]
  },
  {
   "cell_type": "markdown",
   "metadata": {},
   "source": [
    "## 2. 导入数据"
   ]
  },
  {
   "cell_type": "code",
   "execution_count": 2,
   "metadata": {},
   "outputs": [
    {
     "data": {
      "text/html": [
       "<div>\n",
       "<style scoped>\n",
       "    .dataframe tbody tr th:only-of-type {\n",
       "        vertical-align: middle;\n",
       "    }\n",
       "\n",
       "    .dataframe tbody tr th {\n",
       "        vertical-align: top;\n",
       "    }\n",
       "\n",
       "    .dataframe thead th {\n",
       "        text-align: right;\n",
       "    }\n",
       "</style>\n",
       "<table border=\"1\" class=\"dataframe\">\n",
       "  <thead>\n",
       "    <tr style=\"text-align: right;\">\n",
       "      <th></th>\n",
       "      <th>open</th>\n",
       "      <th>high</th>\n",
       "      <th>close</th>\n",
       "      <th>low</th>\n",
       "      <th>volume</th>\n",
       "      <th>price_change</th>\n",
       "      <th>p_change</th>\n",
       "      <th>ma5</th>\n",
       "      <th>ma10</th>\n",
       "      <th>ma20</th>\n",
       "      <th>v_ma5</th>\n",
       "      <th>v_ma10</th>\n",
       "      <th>v_ma20</th>\n",
       "    </tr>\n",
       "    <tr>\n",
       "      <th>date</th>\n",
       "      <th></th>\n",
       "      <th></th>\n",
       "      <th></th>\n",
       "      <th></th>\n",
       "      <th></th>\n",
       "      <th></th>\n",
       "      <th></th>\n",
       "      <th></th>\n",
       "      <th></th>\n",
       "      <th></th>\n",
       "      <th></th>\n",
       "      <th></th>\n",
       "      <th></th>\n",
       "    </tr>\n",
       "  </thead>\n",
       "  <tbody>\n",
       "    <tr>\n",
       "      <th>2014-11-24</th>\n",
       "      <td>2614.160</td>\n",
       "      <td>2667.671</td>\n",
       "      <td>2649.258</td>\n",
       "      <td>2602.944</td>\n",
       "      <td>279839712.0</td>\n",
       "      <td>65.803</td>\n",
       "      <td>2.55</td>\n",
       "      <td>2649.258</td>\n",
       "      <td>2649.258</td>\n",
       "      <td>2649.258</td>\n",
       "      <td>2.798397e+08</td>\n",
       "      <td>2.798397e+08</td>\n",
       "      <td>2.798397e+08</td>\n",
       "    </tr>\n",
       "    <tr>\n",
       "      <th>2014-11-25</th>\n",
       "      <td>2650.085</td>\n",
       "      <td>2686.063</td>\n",
       "      <td>2685.561</td>\n",
       "      <td>2643.843</td>\n",
       "      <td>222611696.0</td>\n",
       "      <td>36.303</td>\n",
       "      <td>1.37</td>\n",
       "      <td>2667.409</td>\n",
       "      <td>2667.409</td>\n",
       "      <td>2667.409</td>\n",
       "      <td>2.512257e+08</td>\n",
       "      <td>2.512257e+08</td>\n",
       "      <td>2.512257e+08</td>\n",
       "    </tr>\n",
       "    <tr>\n",
       "      <th>2014-11-26</th>\n",
       "      <td>2695.263</td>\n",
       "      <td>2723.360</td>\n",
       "      <td>2723.018</td>\n",
       "      <td>2690.310</td>\n",
       "      <td>243962480.0</td>\n",
       "      <td>37.457</td>\n",
       "      <td>1.40</td>\n",
       "      <td>2685.946</td>\n",
       "      <td>2685.946</td>\n",
       "      <td>2685.946</td>\n",
       "      <td>2.488046e+08</td>\n",
       "      <td>2.488046e+08</td>\n",
       "      <td>2.488046e+08</td>\n",
       "    </tr>\n",
       "    <tr>\n",
       "      <th>2014-11-27</th>\n",
       "      <td>2737.030</td>\n",
       "      <td>2754.490</td>\n",
       "      <td>2754.490</td>\n",
       "      <td>2718.704</td>\n",
       "      <td>265464736.0</td>\n",
       "      <td>31.472</td>\n",
       "      <td>1.16</td>\n",
       "      <td>2703.082</td>\n",
       "      <td>2703.082</td>\n",
       "      <td>2703.082</td>\n",
       "      <td>2.529697e+08</td>\n",
       "      <td>2.529697e+08</td>\n",
       "      <td>2.529697e+08</td>\n",
       "    </tr>\n",
       "    <tr>\n",
       "      <th>2014-11-28</th>\n",
       "      <td>2753.925</td>\n",
       "      <td>2809.543</td>\n",
       "      <td>2808.819</td>\n",
       "      <td>2740.374</td>\n",
       "      <td>375323648.0</td>\n",
       "      <td>54.329</td>\n",
       "      <td>1.97</td>\n",
       "      <td>2724.229</td>\n",
       "      <td>2724.229</td>\n",
       "      <td>2724.229</td>\n",
       "      <td>2.774405e+08</td>\n",
       "      <td>2.774405e+08</td>\n",
       "      <td>2.774405e+08</td>\n",
       "    </tr>\n",
       "  </tbody>\n",
       "</table>\n",
       "</div>"
      ],
      "text/plain": [
       "                open      high     close       low       volume  price_change  \\\n",
       "date                                                                            \n",
       "2014-11-24  2614.160  2667.671  2649.258  2602.944  279839712.0        65.803   \n",
       "2014-11-25  2650.085  2686.063  2685.561  2643.843  222611696.0        36.303   \n",
       "2014-11-26  2695.263  2723.360  2723.018  2690.310  243962480.0        37.457   \n",
       "2014-11-27  2737.030  2754.490  2754.490  2718.704  265464736.0        31.472   \n",
       "2014-11-28  2753.925  2809.543  2808.819  2740.374  375323648.0        54.329   \n",
       "\n",
       "            p_change       ma5      ma10      ma20         v_ma5  \\\n",
       "date                                                               \n",
       "2014-11-24      2.55  2649.258  2649.258  2649.258  2.798397e+08   \n",
       "2014-11-25      1.37  2667.409  2667.409  2667.409  2.512257e+08   \n",
       "2014-11-26      1.40  2685.946  2685.946  2685.946  2.488046e+08   \n",
       "2014-11-27      1.16  2703.082  2703.082  2703.082  2.529697e+08   \n",
       "2014-11-28      1.97  2724.229  2724.229  2724.229  2.774405e+08   \n",
       "\n",
       "                  v_ma10        v_ma20  \n",
       "date                                    \n",
       "2014-11-24  2.798397e+08  2.798397e+08  \n",
       "2014-11-25  2.512257e+08  2.512257e+08  \n",
       "2014-11-26  2.488046e+08  2.488046e+08  \n",
       "2014-11-27  2.529697e+08  2.529697e+08  \n",
       "2014-11-28  2.774405e+08  2.774405e+08  "
      ]
     },
     "execution_count": 2,
     "metadata": {},
     "output_type": "execute_result"
    }
   ],
   "source": [
    "import pandas as pd\n",
    "df = pd.read_csv('{}/data/000300-2014-2017.csv'.format(project_root), index_col='date')\n",
    "df.head()"
   ]
  },
  {
   "cell_type": "markdown",
   "metadata": {},
   "source": [
    "## 3. 实验"
   ]
  },
  {
   "cell_type": "markdown",
   "metadata": {},
   "source": [
    "### 3.1 计算样本"
   ]
  },
  {
   "cell_type": "markdown",
   "metadata": {},
   "source": [
    "方法：计算指定时间内收盘价上涨幅度（计算标签）"
   ]
  },
  {
   "cell_type": "code",
   "execution_count": 4,
   "metadata": {
    "collapsed": true
   },
   "outputs": [],
   "source": [
    "def get_max_rise(series):\n",
    "    curr_min = series[0]\n",
    "    max_rise = 0\n",
    "    # 动态规划计算最大涨幅\n",
    "    for i in range(1, len(series)):\n",
    "        curr_min = min(curr_min, series[i])\n",
    "        max_rise = max(max_rise, series[i] - curr_min)\n",
    "        \n",
    "    return abs(max_rise / curr_min)"
   ]
  },
  {
   "cell_type": "markdown",
   "metadata": {},
   "source": [
    "方法：计算用于预测是否会较大幅度上涨的特征"
   ]
  },
  {
   "cell_type": "code",
   "execution_count": 82,
   "metadata": {
    "collapsed": true
   },
   "outputs": [],
   "source": [
    "def get_features(dataframe, upper_shadow_threshold=0.2):\n",
    "    feature = list()\n",
    "    # 是否出现收盘3(+)连阴\n",
    "    close_diff = dataframe['close'].diff()\n",
    "    close_diff[close_diff >= 0] = 0\n",
    "    close_diff[close_diff < 0] = 1\n",
    "    consecutive_decrease = close_diff * (close_diff.groupby((close_diff != close_diff.shift()).cumsum()).cumcount() \n",
    "                                         + 1)\n",
    "#     if consecutive_decrease.max() >=3:\n",
    "#         feature.append(True)\n",
    "#     else:\n",
    "#         feature.append(False)\n",
    "    feature.append(consecutive_decrease.max())\n",
    "        \n",
    "    # 是否出现三均线2(+)连阴\n",
    "    ma5_diff = dataframe['ma5'].diff()\n",
    "    ma10_diff = dataframe['ma10'].diff()\n",
    "    ma20_diff = dataframe['ma20'].diff()\n",
    "    ma5_diff[ma5_diff >= 0] = 0\n",
    "    ma10_diff[ma10_diff >= 0] = 0\n",
    "    ma20_diff[ma20_diff >= 0] = 0\n",
    "    ma5_diff[ma5_diff < 0] = 1\n",
    "    ma10_diff[ma10_diff < 0] = 1\n",
    "    ma20_diff[ma20_diff < 0] = 1\n",
    "    \n",
    "    ma5_decrease = ma5_diff * (ma5_diff.groupby((ma5_diff != ma5_diff.shift()).cumsum()).cumcount() + 1)\n",
    "    ma10_decrease = ma10_diff * (ma10_diff.groupby((ma10_diff != ma10_diff.shift()).cumsum()).cumcount() + 1)\n",
    "    ma20_decrease = ma20_diff * (ma20_diff.groupby((ma20_diff != ma20_diff.shift()).cumsum()).cumcount() + 1)\n",
    "    \n",
    "#     if (ma5_decrease.max() >= 2) and (ma10_decrease.max() >= 2) and (ma10_decrease.max() >= 2):\n",
    "#         feature.append(True)\n",
    "#     else:\n",
    "#         feature.append(False)\n",
    "    feature.append(ma5_decrease.max())\n",
    "    feature.append(ma10_decrease.max())\n",
    "    feature.append(ma20_decrease.max())\n",
    "    # 上涨中是否出现上影\n",
    "    ma10 = dataframe['ma10']\n",
    "    ma20 = dataframe['ma20']\n",
    "    condition_green = dataframe['close'] < dataframe['open']\n",
    "    \n",
    "    if (ma10[-1] > ma10[0]) and (ma20[-1] > ma20[0]):\n",
    "        # 绿\n",
    "        # 上影（绿）\n",
    "        condition_upper_shadow = (dataframe['high'] - dataframe['open']) / (dataframe['open'] - dataframe['close'])\n",
    "        condition_upper_shadow = condition_upper_shadow > upper_shadow_threshold\n",
    "        condition = condition_green & condition_upper_shadow\n",
    "        feature.append(condition[condition == True].shape[0])\n",
    "    else:\n",
    "        feature.append(0)\n",
    "    \n",
    "    # 上涨中是否出现镰刀\n",
    "    ma_max = dataframe[['ma5', 'ma10', 'ma20']].max(1)\n",
    "    ma_min = dataframe[['ma5', 'ma10', 'ma20']].min(1)\n",
    "    condition_sickle = (dataframe['open'] > ma_max) & (dataframe['close'] < ma_min)\n",
    "    condition_sickle = condition_green & condition_sickle\n",
    "    feature.append(condition_sickle[condition_sickle == True].shape[0] > 0)\n",
    "    return feature\n",
    "    "
   ]
  },
  {
   "cell_type": "markdown",
   "metadata": {},
   "source": [
    "方法：生成训练-测试样本"
   ]
  },
  {
   "cell_type": "code",
   "execution_count": 83,
   "metadata": {
    "collapsed": true
   },
   "outputs": [],
   "source": [
    "import numpy as np\n",
    "\n",
    "def generate_train_test_samples(df, train_interval, test_interval):\n",
    "    features = list()\n",
    "    labels = list()\n",
    "    for i in range(0, df.shape[0]-train_interval-test_interval):\n",
    "        df_train = df.iloc[i: i+train_interval]\n",
    "        feature = get_features(df_train)\n",
    "        features.append(feature)\n",
    "        df_test = df.iloc[i+train_interval: i+train_interval+test_interval]\n",
    "        max_crash = get_max_crash(df_test['close'])\n",
    "        labels.append(max_crash)\n",
    "    return np.array(features), np.array(labels)"
   ]
  },
  {
   "cell_type": "code",
   "execution_count": 84,
   "metadata": {
    "collapsed": true
   },
   "outputs": [],
   "source": [
    "x, y = generate_train_test_samples(df, 42, 21)"
   ]
  },
  {
   "cell_type": "code",
   "execution_count": 85,
   "metadata": {},
   "outputs": [
    {
     "name": "stdout",
     "output_type": "stream",
     "text": [
      "All samples num: 671\n",
      "Positive samples num: 65\n"
     ]
    }
   ],
   "source": [
    "import numpy as np\n",
    "\n",
    "thresh = 0.15\n",
    "label = np.copy(y)\n",
    "label[label > thresh] = 1\n",
    "label[label <= thresh] = 0\n",
    "print('All samples num: {}'.format(label.shape[0]))\n",
    "print('Positive samples num: {}'.format(label[label == 1].shape[0]))"
   ]
  },
  {
   "cell_type": "markdown",
   "metadata": {},
   "source": [
    "### 3.2 分类模型"
   ]
  },
  {
   "cell_type": "code",
   "execution_count": 81,
   "metadata": {},
   "outputs": [
    {
     "name": "stdout",
     "output_type": "stream",
     "text": [
      "0.672413793103\n",
      "0.6\n"
     ]
    }
   ],
   "source": [
    "from sklearn.linear_model import LogisticRegression\n",
    "from sklearn.ensemble import GradientBoostingClassifier as gdbt\n",
    "from sklearn.metrics import precision_score, accuracy_score, recall_score\n",
    "\n",
    "model = gdbt()\n",
    "model.fit(x, label)\n",
    "print(precision_score(label, model.predict(x)))\n",
    "print(recall_score(label, model.predict(x)))"
   ]
  },
  {
   "cell_type": "code",
   "execution_count": 86,
   "metadata": {},
   "outputs": [
    {
     "name": "stdout",
     "output_type": "stream",
     "text": [
      "0.970149253731\n",
      "1.0\n"
     ]
    }
   ],
   "source": [
    "from sklearn.linear_model import LogisticRegression\n",
    "from sklearn.ensemble import GradientBoostingClassifier as gdbt\n",
    "from sklearn.metrics import precision_score, accuracy_score, recall_score\n",
    "\n",
    "model = gdbt()\n",
    "model.fit(x, label)\n",
    "print(precision_score(label, model.predict(x)))\n",
    "print(recall_score(label, model.predict(x)))"
   ]
  },
  {
   "cell_type": "code",
   "execution_count": 73,
   "metadata": {},
   "outputs": [
    {
     "data": {
      "text/plain": [
       "1.0"
      ]
     },
     "execution_count": 73,
     "metadata": {},
     "output_type": "execute_result"
    }
   ],
   "source": [
    "label[label == 1].shape[0] * recall_score(label, model.predict(x))"
   ]
  },
  {
   "cell_type": "code",
   "execution_count": 126,
   "metadata": {
    "collapsed": true,
    "scrolled": false
   },
   "outputs": [],
   "source": [
    "from matplotlib import pyplot as plt\n",
    "from matplotlib.animation import FuncAnimation\n",
    "\n",
    "positive_indices = [i for i, v in enumerate(label) if v == 1]\n",
    "\n",
    "fig, ax = plt.subplots()\n",
    "fig.set_tight_layout(True)\n",
    "fig.set_figheight(6)\n",
    "fig.set_figwidth(16)\n",
    "\n",
    "# Plot a scatter that persists (isn't redrawn) and the initial line.\n",
    "ax.plot(df['close'].values)\n",
    "\n",
    "line1 = ax.axvline(x=positive_indices[0], c='red')\n",
    "line2 = ax.axvline(x=positive_indices[0] + 42, c='yellow')\n",
    "line3 = ax.axvline(x=positive_indices[0] + 63, c='blue')\n",
    "\n",
    "def update(i):\n",
    "    label = 'Crash rate: {}'.format(y[positive_indices[i]])\n",
    "    # Update the line and the axes (with a new xlabel). Return a tuple of\n",
    "    # \"artists\" that have to be redrawn for this frame.\n",
    "    line1.set_xdata(positive_indices[i])\n",
    "    line2.set_xdata(positive_indices[i] + 42)\n",
    "    line3.set_xdata(positive_indices[i] + 63)\n",
    "    ax.set_xlabel(label)\n",
    "    return line, ax\n",
    "\n",
    "anim = FuncAnimation(fig, update, frames=len(positive_indices), interval=200)\n",
    "anim.save('test1.gif', dpi=80, writer='imagemagick')"
   ]
  },
  {
   "cell_type": "markdown",
   "metadata": {},
   "source": [
    "<img src='test1.gif'>"
   ]
  },
  {
   "cell_type": "markdown",
   "metadata": {},
   "source": [
    "## 4. 结论"
   ]
  },
  {
   "cell_type": "code",
   "execution_count": null,
   "metadata": {
    "collapsed": true
   },
   "outputs": [],
   "source": []
  }
 ],
 "metadata": {
  "kernelspec": {
   "display_name": "p2-venv",
   "language": "python",
   "name": "p2-venv"
  },
  "language_info": {
   "codemirror_mode": {
    "name": "ipython",
    "version": 2
   },
   "file_extension": ".py",
   "mimetype": "text/x-python",
   "name": "python",
   "nbconvert_exporter": "python",
   "pygments_lexer": "ipython2",
   "version": "2.7.6"
  }
 },
 "nbformat": 4,
 "nbformat_minor": 2
}
